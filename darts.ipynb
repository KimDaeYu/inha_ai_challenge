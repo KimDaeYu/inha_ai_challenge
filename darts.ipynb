{
 "cells": [
  {
   "cell_type": "code",
   "execution_count": 9,
   "metadata": {},
   "outputs": [],
   "source": [
    "import pandas as pd\n",
    "import numpy as np\n",
    "from darts import TimeSeries\n",
    "import matplotlib.pyplot as plt \n",
    "\n",
    "# Read a pandas DataFrame\n",
    "df = pd.read_csv(\"data/train_data.csv\")"
   ]
  },
  {
   "cell_type": "code",
   "execution_count": 35,
   "metadata": {},
   "outputs": [],
   "source": [
    "TurbList = []\n",
    "for i in (sorted(pd.unique(df[\"TurbID\"]))):\n",
    "    tmp = df[df[\"TurbID\"] == i]\n",
    "    tmp.reset_index(inplace=True,drop=True)\n",
    "    TurbList.append(tmp)"
   ]
  },
  {
   "cell_type": "markdown",
   "metadata": {},
   "source": [
    "### 결측치 \n",
    "- 터빈1 [9356:9585] 314개 == 2일 4시간 40분 연속치"
   ]
  },
  {
   "cell_type": "code",
   "execution_count": 105,
   "metadata": {},
   "outputs": [],
   "source": [
    "data = TurbList[0].iloc[9585:]\n",
    "data = data.fillna(method = 'bfill')\n",
    "testdata = data"
   ]
  },
  {
   "cell_type": "code",
   "execution_count": 106,
   "metadata": {},
   "outputs": [],
   "source": [
    "tmp_data = data.drop([\"TurbID\", \"Day\",\"Tmstamp\"], axis = 1)\n",
    "tmp_data = tmp_data.set_index(pd.date_range(start=\"2022-01-01\", periods=len(data), freq=\"10T\"),append=False)"
   ]
  },
  {
   "cell_type": "code",
   "execution_count": 107,
   "metadata": {},
   "outputs": [
    {
     "data": {
      "text/html": [
       "<div>\n",
       "<style scoped>\n",
       "    .dataframe tbody tr th:only-of-type {\n",
       "        vertical-align: middle;\n",
       "    }\n",
       "\n",
       "    .dataframe tbody tr th {\n",
       "        vertical-align: top;\n",
       "    }\n",
       "\n",
       "    .dataframe thead th {\n",
       "        text-align: right;\n",
       "    }\n",
       "</style>\n",
       "<table border=\"1\" class=\"dataframe\">\n",
       "  <thead>\n",
       "    <tr style=\"text-align: right;\">\n",
       "      <th></th>\n",
       "      <th>Wspd</th>\n",
       "      <th>Wdir</th>\n",
       "      <th>Etmp</th>\n",
       "      <th>Itmp</th>\n",
       "      <th>Ndir</th>\n",
       "      <th>Pab1</th>\n",
       "      <th>Pab2</th>\n",
       "      <th>Pab3</th>\n",
       "      <th>Prtv</th>\n",
       "      <th>Patv</th>\n",
       "    </tr>\n",
       "  </thead>\n",
       "  <tbody>\n",
       "    <tr>\n",
       "      <th>2022-01-01 00:00:00</th>\n",
       "      <td>11.07</td>\n",
       "      <td>2.29</td>\n",
       "      <td>38.60</td>\n",
       "      <td>50.53</td>\n",
       "      <td>52.37</td>\n",
       "      <td>1.03</td>\n",
       "      <td>1.03</td>\n",
       "      <td>1.03</td>\n",
       "      <td>-0.19</td>\n",
       "      <td>1416.35</td>\n",
       "    </tr>\n",
       "    <tr>\n",
       "      <th>2022-01-01 00:10:00</th>\n",
       "      <td>11.39</td>\n",
       "      <td>-1.70</td>\n",
       "      <td>38.70</td>\n",
       "      <td>50.67</td>\n",
       "      <td>60.54</td>\n",
       "      <td>1.04</td>\n",
       "      <td>1.04</td>\n",
       "      <td>1.04</td>\n",
       "      <td>-0.23</td>\n",
       "      <td>1423.96</td>\n",
       "    </tr>\n",
       "    <tr>\n",
       "      <th>2022-01-01 00:20:00</th>\n",
       "      <td>11.77</td>\n",
       "      <td>1.11</td>\n",
       "      <td>38.76</td>\n",
       "      <td>50.62</td>\n",
       "      <td>57.03</td>\n",
       "      <td>1.04</td>\n",
       "      <td>1.04</td>\n",
       "      <td>1.04</td>\n",
       "      <td>-0.30</td>\n",
       "      <td>1451.06</td>\n",
       "    </tr>\n",
       "    <tr>\n",
       "      <th>2022-01-01 00:30:00</th>\n",
       "      <td>10.11</td>\n",
       "      <td>-0.98</td>\n",
       "      <td>38.95</td>\n",
       "      <td>50.67</td>\n",
       "      <td>53.47</td>\n",
       "      <td>1.02</td>\n",
       "      <td>1.02</td>\n",
       "      <td>1.02</td>\n",
       "      <td>-0.23</td>\n",
       "      <td>1256.14</td>\n",
       "    </tr>\n",
       "    <tr>\n",
       "      <th>2022-01-01 00:40:00</th>\n",
       "      <td>10.82</td>\n",
       "      <td>0.59</td>\n",
       "      <td>39.11</td>\n",
       "      <td>51.08</td>\n",
       "      <td>55.04</td>\n",
       "      <td>1.01</td>\n",
       "      <td>1.01</td>\n",
       "      <td>1.01</td>\n",
       "      <td>-0.18</td>\n",
       "      <td>1375.47</td>\n",
       "    </tr>\n",
       "  </tbody>\n",
       "</table>\n",
       "</div>"
      ],
      "text/plain": [
       "                      Wspd  Wdir   Etmp   Itmp   Ndir  Pab1  Pab2  Pab3  Prtv  \\\n",
       "2022-01-01 00:00:00  11.07  2.29  38.60  50.53  52.37  1.03  1.03  1.03 -0.19   \n",
       "2022-01-01 00:10:00  11.39 -1.70  38.70  50.67  60.54  1.04  1.04  1.04 -0.23   \n",
       "2022-01-01 00:20:00  11.77  1.11  38.76  50.62  57.03  1.04  1.04  1.04 -0.30   \n",
       "2022-01-01 00:30:00  10.11 -0.98  38.95  50.67  53.47  1.02  1.02  1.02 -0.23   \n",
       "2022-01-01 00:40:00  10.82  0.59  39.11  51.08  55.04  1.01  1.01  1.01 -0.18   \n",
       "\n",
       "                        Patv  \n",
       "2022-01-01 00:00:00  1416.35  \n",
       "2022-01-01 00:10:00  1423.96  \n",
       "2022-01-01 00:20:00  1451.06  \n",
       "2022-01-01 00:30:00  1256.14  \n",
       "2022-01-01 00:40:00  1375.47  "
      ]
     },
     "execution_count": 107,
     "metadata": {},
     "output_type": "execute_result"
    }
   ],
   "source": [
    "tmp_data.head(5)"
   ]
  },
  {
   "cell_type": "code",
   "execution_count": 52,
   "metadata": {},
   "outputs": [],
   "source": [
    "# Create a TimeSeries, specifying the time and value columns\n",
    "series = TimeSeries.from_dataframe(tmp_data, value_cols=\"Patv\")\n",
    "\n",
    "# Set aside the last 36 months as a validation series\n",
    "train, val = series[:-288], series[-288:]"
   ]
  },
  {
   "cell_type": "code",
   "execution_count": 83,
   "metadata": {},
   "outputs": [],
   "source": [
    "def make_train_data(data):\n",
    "    train_x, train_y = [], []\n",
    "    for i in tqdm(sorted(pd.unique(data[\"TurbID\"]))):\n",
    "        tmp_data = data[data[\"TurbID\"] == i]\n",
    "        for j in range(1, 201 - 6):\n",
    "            \n",
    "            # train data ==> 5일 단위\n",
    "            # label data ==> 2일 단위\n",
    "            day_list = [x for x in range(j, j+ 5)]\n",
    "            label_day_list = [y for y in range(j+5, j + 7)]\n",
    "            \n",
    "            train_tmp = tmp_data[tmp_data[\"Day\"].isin(day_list)]\n",
    "            label_tmp = tmp_data[tmp_data[\"Day\"].isin(label_day_list)][\"Patv\"]\n",
    "            \n",
    "            # feature 선택 및 제거\n",
    "            train_tmp = train_tmp.drop([\"TurbID\", \"Day\"], axis = 1)\n",
    "            \n",
    "            train_x.append(np.array(train_tmp))\n",
    "            train_y.append(np.array(label_tmp))\n",
    "            \n",
    "    return train_x, train_y"
   ]
  },
  {
   "cell_type": "code",
   "execution_count": 53,
   "metadata": {},
   "outputs": [
    {
     "name": "stderr",
     "output_type": "stream",
     "text": [
      "c:\\Users\\kdy\\anaconda3\\envs\\inhaAI\\lib\\site-packages\\statsmodels\\tsa\\holtwinters\\model.py:915: ConvergenceWarning: Optimization failed to converge. Check mle_retvals.\n",
      "  warnings.warn(\n"
     ]
    }
   ],
   "source": [
    "from darts.models import ExponentialSmoothing\n",
    "\n",
    "model = ExponentialSmoothing(seasonal_periods=144)\n",
    "model.fit(train_x)\n",
    "prediction = model.predict(len(val), num_samples=1000)"
   ]
  },
  {
   "cell_type": "code",
   "execution_count": 45,
   "metadata": {},
   "outputs": [
    {
     "data": {
      "text/plain": [
       "<matplotlib.legend.Legend at 0x273543e0b20>"
      ]
     },
     "execution_count": 45,
     "metadata": {},
     "output_type": "execute_result"
    },
    {
     "data": {
      "image/png": "[encoded data removed]",
      "text/plain": [
       "<Figure size 432x288 with 1 Axes>"
      ]
     },
     "metadata": {
      "needs_background": "light"
     },
     "output_type": "display_data"
    }
   ],
   "source": [
    "import matplotlib.pyplot as plt\n",
    "\n",
    "series.plot()\n",
    "prediction.plot(label='forecast', low_quantile=0.05, high_quantile=0.95)\n",
    "plt.legend()"
   ]
  },
  {
   "cell_type": "markdown",
   "metadata": {},
   "source": [
    "---"
   ]
  },
  {
   "cell_type": "code",
   "execution_count": 84,
   "metadata": {},
   "outputs": [
    {
     "data": {
      "text/html": [
       "<div>\n",
       "<style scoped>\n",
       "    .dataframe tbody tr th:only-of-type {\n",
       "        vertical-align: middle;\n",
       "    }\n",
       "\n",
       "    .dataframe tbody tr th {\n",
       "        vertical-align: top;\n",
       "    }\n",
       "\n",
       "    .dataframe thead th {\n",
       "        text-align: right;\n",
       "    }\n",
       "</style>\n",
       "<table border=\"1\" class=\"dataframe\">\n",
       "  <thead>\n",
       "    <tr style=\"text-align: right;\">\n",
       "      <th></th>\n",
       "      <th>Wspd</th>\n",
       "      <th>Wdir</th>\n",
       "      <th>Etmp</th>\n",
       "      <th>Itmp</th>\n",
       "      <th>Ndir</th>\n",
       "      <th>Pab1</th>\n",
       "      <th>Pab2</th>\n",
       "      <th>Pab3</th>\n",
       "      <th>Prtv</th>\n",
       "      <th>Patv</th>\n",
       "    </tr>\n",
       "    <tr>\n",
       "      <th>time</th>\n",
       "      <th></th>\n",
       "      <th></th>\n",
       "      <th></th>\n",
       "      <th></th>\n",
       "      <th></th>\n",
       "      <th></th>\n",
       "      <th></th>\n",
       "      <th></th>\n",
       "      <th></th>\n",
       "      <th></th>\n",
       "    </tr>\n",
       "  </thead>\n",
       "  <tbody>\n",
       "    <tr>\n",
       "      <th>2022-01-01 00:00:00</th>\n",
       "      <td>11.07</td>\n",
       "      <td>2.29</td>\n",
       "      <td>38.60</td>\n",
       "      <td>50.53</td>\n",
       "      <td>52.37</td>\n",
       "      <td>1.03</td>\n",
       "      <td>1.03</td>\n",
       "      <td>1.03</td>\n",
       "      <td>-0.19</td>\n",
       "      <td>1416.35</td>\n",
       "    </tr>\n",
       "    <tr>\n",
       "      <th>2022-01-01 00:10:00</th>\n",
       "      <td>11.39</td>\n",
       "      <td>-1.70</td>\n",
       "      <td>38.70</td>\n",
       "      <td>50.67</td>\n",
       "      <td>60.54</td>\n",
       "      <td>1.04</td>\n",
       "      <td>1.04</td>\n",
       "      <td>1.04</td>\n",
       "      <td>-0.23</td>\n",
       "      <td>1423.96</td>\n",
       "    </tr>\n",
       "    <tr>\n",
       "      <th>2022-01-01 00:20:00</th>\n",
       "      <td>11.77</td>\n",
       "      <td>1.11</td>\n",
       "      <td>38.76</td>\n",
       "      <td>50.62</td>\n",
       "      <td>57.03</td>\n",
       "      <td>1.04</td>\n",
       "      <td>1.04</td>\n",
       "      <td>1.04</td>\n",
       "      <td>-0.30</td>\n",
       "      <td>1451.06</td>\n",
       "    </tr>\n",
       "    <tr>\n",
       "      <th>2022-01-01 00:30:00</th>\n",
       "      <td>10.11</td>\n",
       "      <td>-0.98</td>\n",
       "      <td>38.95</td>\n",
       "      <td>50.67</td>\n",
       "      <td>53.47</td>\n",
       "      <td>1.02</td>\n",
       "      <td>1.02</td>\n",
       "      <td>1.02</td>\n",
       "      <td>-0.23</td>\n",
       "      <td>1256.14</td>\n",
       "    </tr>\n",
       "    <tr>\n",
       "      <th>2022-01-01 00:40:00</th>\n",
       "      <td>10.82</td>\n",
       "      <td>0.59</td>\n",
       "      <td>39.11</td>\n",
       "      <td>51.08</td>\n",
       "      <td>55.04</td>\n",
       "      <td>1.01</td>\n",
       "      <td>1.01</td>\n",
       "      <td>1.01</td>\n",
       "      <td>-0.18</td>\n",
       "      <td>1375.47</td>\n",
       "    </tr>\n",
       "    <tr>\n",
       "      <th>...</th>\n",
       "      <td>...</td>\n",
       "      <td>...</td>\n",
       "      <td>...</td>\n",
       "      <td>...</td>\n",
       "      <td>...</td>\n",
       "      <td>...</td>\n",
       "      <td>...</td>\n",
       "      <td>...</td>\n",
       "      <td>...</td>\n",
       "      <td>...</td>\n",
       "    </tr>\n",
       "    <tr>\n",
       "      <th>2022-05-14 09:40:00</th>\n",
       "      <td>4.70</td>\n",
       "      <td>-0.04</td>\n",
       "      <td>10.46</td>\n",
       "      <td>27.67</td>\n",
       "      <td>201.38</td>\n",
       "      <td>0.99</td>\n",
       "      <td>0.99</td>\n",
       "      <td>0.99</td>\n",
       "      <td>-0.29</td>\n",
       "      <td>296.34</td>\n",
       "    </tr>\n",
       "    <tr>\n",
       "      <th>2022-05-14 09:50:00</th>\n",
       "      <td>3.53</td>\n",
       "      <td>-2.37</td>\n",
       "      <td>11.32</td>\n",
       "      <td>28.65</td>\n",
       "      <td>191.85</td>\n",
       "      <td>0.99</td>\n",
       "      <td>0.99</td>\n",
       "      <td>0.99</td>\n",
       "      <td>-0.22</td>\n",
       "      <td>178.46</td>\n",
       "    </tr>\n",
       "    <tr>\n",
       "      <th>2022-05-14 10:00:00</th>\n",
       "      <td>3.50</td>\n",
       "      <td>-0.65</td>\n",
       "      <td>11.81</td>\n",
       "      <td>29.29</td>\n",
       "      <td>187.51</td>\n",
       "      <td>0.99</td>\n",
       "      <td>0.99</td>\n",
       "      <td>0.99</td>\n",
       "      <td>-0.24</td>\n",
       "      <td>164.19</td>\n",
       "    </tr>\n",
       "    <tr>\n",
       "      <th>2022-05-14 10:10:00</th>\n",
       "      <td>4.26</td>\n",
       "      <td>0.50</td>\n",
       "      <td>10.08</td>\n",
       "      <td>28.13</td>\n",
       "      <td>187.51</td>\n",
       "      <td>0.99</td>\n",
       "      <td>0.99</td>\n",
       "      <td>0.99</td>\n",
       "      <td>-0.28</td>\n",
       "      <td>259.42</td>\n",
       "    </tr>\n",
       "    <tr>\n",
       "      <th>2022-05-14 10:20:00</th>\n",
       "      <td>3.97</td>\n",
       "      <td>0.92</td>\n",
       "      <td>10.96</td>\n",
       "      <td>28.46</td>\n",
       "      <td>191.23</td>\n",
       "      <td>0.99</td>\n",
       "      <td>0.99</td>\n",
       "      <td>0.99</td>\n",
       "      <td>-0.27</td>\n",
       "      <td>218.70</td>\n",
       "    </tr>\n",
       "  </tbody>\n",
       "</table>\n",
       "<p>19215 rows × 10 columns</p>\n",
       "</div>"
      ],
      "text/plain": [
       "                      Wspd  Wdir   Etmp   Itmp    Ndir  Pab1  Pab2  Pab3  \\\n",
       "time                                                                       \n",
       "2022-01-01 00:00:00  11.07  2.29  38.60  50.53   52.37  1.03  1.03  1.03   \n",
       "2022-01-01 00:10:00  11.39 -1.70  38.70  50.67   60.54  1.04  1.04  1.04   \n",
       "2022-01-01 00:20:00  11.77  1.11  38.76  50.62   57.03  1.04  1.04  1.04   \n",
       "2022-01-01 00:30:00  10.11 -0.98  38.95  50.67   53.47  1.02  1.02  1.02   \n",
       "2022-01-01 00:40:00  10.82  0.59  39.11  51.08   55.04  1.01  1.01  1.01   \n",
       "...                    ...   ...    ...    ...     ...   ...   ...   ...   \n",
       "2022-05-14 09:40:00   4.70 -0.04  10.46  27.67  201.38  0.99  0.99  0.99   \n",
       "2022-05-14 09:50:00   3.53 -2.37  11.32  28.65  191.85  0.99  0.99  0.99   \n",
       "2022-05-14 10:00:00   3.50 -0.65  11.81  29.29  187.51  0.99  0.99  0.99   \n",
       "2022-05-14 10:10:00   4.26  0.50  10.08  28.13  187.51  0.99  0.99  0.99   \n",
       "2022-05-14 10:20:00   3.97  0.92  10.96  28.46  191.23  0.99  0.99  0.99   \n",
       "\n",
       "                     Prtv     Patv  \n",
       "time                                \n",
       "2022-01-01 00:00:00 -0.19  1416.35  \n",
       "2022-01-01 00:10:00 -0.23  1423.96  \n",
       "2022-01-01 00:20:00 -0.30  1451.06  \n",
       "2022-01-01 00:30:00 -0.23  1256.14  \n",
       "2022-01-01 00:40:00 -0.18  1375.47  \n",
       "...                   ...      ...  \n",
       "2022-05-14 09:40:00 -0.29   296.34  \n",
       "2022-05-14 09:50:00 -0.22   178.46  \n",
       "2022-05-14 10:00:00 -0.24   164.19  \n",
       "2022-05-14 10:10:00 -0.28   259.42  \n",
       "2022-05-14 10:20:00 -0.27   218.70  \n",
       "\n",
       "[19215 rows x 10 columns]"
      ]
     },
     "execution_count": 84,
     "metadata": {},
     "output_type": "execute_result"
    }
   ],
   "source": [
    "tmp_data"
   ]
  },
  {
   "cell_type": "code",
   "execution_count": 85,
   "metadata": {},
   "outputs": [],
   "source": [
    "# Create a TimeSeries, specifying the time and value columns\n",
    "series = TimeSeries.from_dataframe(tmp_data)\n",
    "\n",
    "# Set aside the last 36 months as a validation series\n",
    "train, val = series[:-288], series[-288:]"
   ]
  },
  {
   "cell_type": "markdown",
   "metadata": {},
   "source": [
    "---"
   ]
  },
  {
   "cell_type": "code",
   "execution_count": null,
   "metadata": {},
   "outputs": [],
   "source": [
    "from darts.models import VARIMA\n",
    "#forecasting.varima\n",
    "model = VARIMA()\n",
    "model.fit(train)"
   ]
  },
  {
   "cell_type": "code",
   "execution_count": 79,
   "metadata": {},
   "outputs": [],
   "source": [
    "prediction = model.predict(len(val), num_samples=1)"
   ]
  },
  {
   "cell_type": "code",
   "execution_count": 82,
   "metadata": {},
   "outputs": [
    {
     "data": {
      "image/png": "[encoded data removed]",
      "text/plain": [
       "<Figure size 432x288 with 1 Axes>"
      ]
     },
     "metadata": {
      "needs_background": "light"
     },
     "output_type": "display_data"
    }
   ],
   "source": [
    "prediction.plot()"
   ]
  },
  {
   "cell_type": "markdown",
   "metadata": {},
   "source": [
    "---"
   ]
  },
  {
   "cell_type": "code",
   "execution_count": 92,
   "metadata": {},
   "outputs": [
    {
     "name": "stderr",
     "output_type": "stream",
     "text": [
      "c:\\Users\\kdy\\anaconda3\\envs\\inhaAI\\lib\\site-packages\\darts\\timeseries.py:4039: FutureWarning: pandas.Int64Index is deprecated and will be removed from pandas in a future version. Use pandas.Index with the appropriate dtype instead.\n",
      "  if isinstance(time_idx, pd.Int64Index) and not isinstance(\n"
     ]
    },
    {
     "data": {
      "text/plain": [
       "<darts.models.forecasting.gradient_boosted_model.LightGBMModel at 0x27393d69670>"
      ]
     },
     "execution_count": 92,
     "metadata": {},
     "output_type": "execute_result"
    }
   ],
   "source": [
    "from darts.models import LightGBMModel\n",
    "model_LGBM = LightGBMModel(lags=144)\n",
    "model_LGBM.fit(train)"
   ]
  },
  {
   "cell_type": "code",
   "execution_count": null,
   "metadata": {},
   "outputs": [],
   "source": [
    "model_LGBM.backtest(train)"
   ]
  },
  {
   "cell_type": "code",
   "execution_count": 93,
   "metadata": {},
   "outputs": [],
   "source": [
    "prediction = model_LGBM.predict(len(val))"
   ]
  },
  {
   "cell_type": "code",
   "execution_count": 94,
   "metadata": {},
   "outputs": [
    {
     "data": {
      "image/png": "[encoded data removed]",
      "text/plain": [
       "<Figure size 432x288 with 1 Axes>"
      ]
     },
     "metadata": {
      "needs_background": "light"
     },
     "output_type": "display_data"
    }
   ],
   "source": [
    "prediction[\"Patv\"].plot()"
   ]
  },
  {
   "cell_type": "code",
   "execution_count": 95,
   "metadata": {},
   "outputs": [],
   "source": [
    "t = prediction[\"Patv\"].pd_dataframe()"
   ]
  },
  {
   "cell_type": "code",
   "execution_count": 97,
   "metadata": {},
   "outputs": [],
   "source": [
    "a = t.reset_index(drop=True)"
   ]
  },
  {
   "cell_type": "code",
   "execution_count": 100,
   "metadata": {},
   "outputs": [],
   "source": [
    "a.to_csv(\"t.csv\")"
   ]
  },
  {
   "cell_type": "markdown",
   "metadata": {},
   "source": [
    "---"
   ]
  },
  {
   "cell_type": "code",
   "execution_count": null,
   "metadata": {},
   "outputs": [],
   "source": []
  }
 ],
 "metadata": {
  "kernelspec": {
   "display_name": "Python 3.9.12 ('inhaAI')",
   "language": "python",
   "name": "python3"
  },
  "language_info": {
   "codemirror_mode": {
    "name": "ipython",
    "version": 3
   },
   "file_extension": ".py",
   "mimetype": "text/x-python",
   "name": "python",
   "nbconvert_exporter": "python",
   "pygments_lexer": "ipython3",
   "version": "3.9.12"
  },
  "orig_nbformat": 4,
  "vscode": {
   "interpreter": {
    "hash": "60c3f38269b321c1dd864e2859335e9b402c8809688e6d802c280e6096a5b409"
   }
  }
 },
 "nbformat": 4,
 "nbformat_minor": 2
}

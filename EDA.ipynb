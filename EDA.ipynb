{
 "cells": [
  {
   "cell_type": "code",
   "execution_count": 12,
   "metadata": {},
   "outputs": [],
   "source": [
    "import numpy as np\n",
    "import pandas as pd\n",
    "import matplotlib.pyplot as plt\n",
    "from tqdm import tqdm"
   ]
  },
  {
   "cell_type": "markdown",
   "metadata": {},
   "source": [
    "### 데이터 설명\n",
    "- TurbID - 발전기 ID\n",
    "- Day - 날짜\n",
    "- Tmstamp - 시간\n",
    "- Wspd - 풍속\n",
    "- Wdir - 터빈이 바라보는 각도와 실제 바람 방향 각도 차이\n",
    "- Etmp - 외부 온도\n",
    "- Itmp - 터빈 내부 온도\n",
    "- Ndir - 터빈이 바라보는 방향 각도\n",
    "- Pab - 터빈 당 3개의 날이 있으며 각각의 각도가 다름\n",
    "- Prtv - 무효전력 : 에너지원을 필요로  하지 않는 전력\n",
    "- Patv - 유효전력 : 실제로 터빈을 돌리는 일을 하는 전력 <br><br>\n",
    "\n",
    "* <b>label: Patv </b>\n",
    "결론적으로 134개 터빈의 201~202일, 즉 2일간의 Patv값을 예측해야 합니다."
   ]
  },
  {
   "cell_type": "markdown",
   "metadata": {},
   "source": []
  },
  {
   "cell_type": "code",
   "execution_count": 13,
   "metadata": {},
   "outputs": [],
   "source": [
    "df = pd.read_csv(\"data/train_data.csv\")\n",
    "sample_submission = pd.read_csv(\"data/sample_submission.csv\")"
   ]
  },
  {
   "cell_type": "markdown",
   "metadata": {},
   "source": []
  },
  {
   "cell_type": "code",
   "execution_count": 14,
   "metadata": {},
   "outputs": [
    {
     "data": {
      "text/html": [
       "<div>\n",
       "<style scoped>\n",
       "    .dataframe tbody tr th:only-of-type {\n",
       "        vertical-align: middle;\n",
       "    }\n",
       "\n",
       "    .dataframe tbody tr th {\n",
       "        vertical-align: top;\n",
       "    }\n",
       "\n",
       "    .dataframe thead th {\n",
       "        text-align: right;\n",
       "    }\n",
       "</style>\n",
       "<table border=\"1\" class=\"dataframe\">\n",
       "  <thead>\n",
       "    <tr style=\"text-align: right;\">\n",
       "      <th></th>\n",
       "      <th>TurbID</th>\n",
       "      <th>Day</th>\n",
       "      <th>Tmstamp</th>\n",
       "      <th>Wspd</th>\n",
       "      <th>Wdir</th>\n",
       "      <th>Etmp</th>\n",
       "      <th>Itmp</th>\n",
       "      <th>Ndir</th>\n",
       "      <th>Pab1</th>\n",
       "      <th>Pab2</th>\n",
       "      <th>Pab3</th>\n",
       "      <th>Prtv</th>\n",
       "      <th>Patv</th>\n",
       "    </tr>\n",
       "  </thead>\n",
       "  <tbody>\n",
       "    <tr>\n",
       "      <th>0</th>\n",
       "      <td>1</td>\n",
       "      <td>1</td>\n",
       "      <td>00:00</td>\n",
       "      <td>NaN</td>\n",
       "      <td>NaN</td>\n",
       "      <td>NaN</td>\n",
       "      <td>NaN</td>\n",
       "      <td>NaN</td>\n",
       "      <td>NaN</td>\n",
       "      <td>NaN</td>\n",
       "      <td>NaN</td>\n",
       "      <td>NaN</td>\n",
       "      <td>NaN</td>\n",
       "    </tr>\n",
       "    <tr>\n",
       "      <th>1</th>\n",
       "      <td>1</td>\n",
       "      <td>1</td>\n",
       "      <td>00:10</td>\n",
       "      <td>6.17</td>\n",
       "      <td>-3.99</td>\n",
       "      <td>30.73</td>\n",
       "      <td>41.80</td>\n",
       "      <td>25.92</td>\n",
       "      <td>1.0</td>\n",
       "      <td>1.0</td>\n",
       "      <td>1.0</td>\n",
       "      <td>-0.25</td>\n",
       "      <td>494.66</td>\n",
       "    </tr>\n",
       "    <tr>\n",
       "      <th>2</th>\n",
       "      <td>1</td>\n",
       "      <td>1</td>\n",
       "      <td>00:20</td>\n",
       "      <td>6.27</td>\n",
       "      <td>-2.18</td>\n",
       "      <td>30.60</td>\n",
       "      <td>41.63</td>\n",
       "      <td>20.91</td>\n",
       "      <td>1.0</td>\n",
       "      <td>1.0</td>\n",
       "      <td>1.0</td>\n",
       "      <td>-0.24</td>\n",
       "      <td>509.76</td>\n",
       "    </tr>\n",
       "    <tr>\n",
       "      <th>3</th>\n",
       "      <td>1</td>\n",
       "      <td>1</td>\n",
       "      <td>00:30</td>\n",
       "      <td>6.42</td>\n",
       "      <td>-0.73</td>\n",
       "      <td>30.52</td>\n",
       "      <td>41.52</td>\n",
       "      <td>20.91</td>\n",
       "      <td>1.0</td>\n",
       "      <td>1.0</td>\n",
       "      <td>1.0</td>\n",
       "      <td>-0.26</td>\n",
       "      <td>542.53</td>\n",
       "    </tr>\n",
       "    <tr>\n",
       "      <th>4</th>\n",
       "      <td>1</td>\n",
       "      <td>1</td>\n",
       "      <td>00:40</td>\n",
       "      <td>6.25</td>\n",
       "      <td>0.89</td>\n",
       "      <td>30.49</td>\n",
       "      <td>41.38</td>\n",
       "      <td>20.91</td>\n",
       "      <td>1.0</td>\n",
       "      <td>1.0</td>\n",
       "      <td>1.0</td>\n",
       "      <td>-0.23</td>\n",
       "      <td>509.36</td>\n",
       "    </tr>\n",
       "  </tbody>\n",
       "</table>\n",
       "</div>"
      ],
      "text/plain": [
       "   TurbID  Day Tmstamp  Wspd  Wdir   Etmp   Itmp   Ndir  Pab1  Pab2  Pab3  \\\n",
       "0       1    1   00:00   NaN   NaN    NaN    NaN    NaN   NaN   NaN   NaN   \n",
       "1       1    1   00:10  6.17 -3.99  30.73  41.80  25.92   1.0   1.0   1.0   \n",
       "2       1    1   00:20  6.27 -2.18  30.60  41.63  20.91   1.0   1.0   1.0   \n",
       "3       1    1   00:30  6.42 -0.73  30.52  41.52  20.91   1.0   1.0   1.0   \n",
       "4       1    1   00:40  6.25  0.89  30.49  41.38  20.91   1.0   1.0   1.0   \n",
       "\n",
       "   Prtv    Patv  \n",
       "0   NaN     NaN  \n",
       "1 -0.25  494.66  \n",
       "2 -0.24  509.76  \n",
       "3 -0.26  542.53  \n",
       "4 -0.23  509.36  "
      ]
     },
     "execution_count": 14,
     "metadata": {},
     "output_type": "execute_result"
    }
   ],
   "source": [
    "df.head()"
   ]
  },
  {
   "cell_type": "code",
   "execution_count": 15,
   "metadata": {},
   "outputs": [
    {
     "data": {
      "text/plain": [
       "<AxesSubplot:>"
      ]
     },
     "execution_count": 15,
     "metadata": {},
     "output_type": "execute_result"
    },
    {
     "data": {
      "image/png": "[encoded data removed]",
      "text/plain": [
       "<Figure size 1008x1008 with 2 Axes>"
      ]
     },
     "metadata": {
      "needs_background": "light"
     },
     "output_type": "display_data"
    }
   ],
   "source": [
    "# feature간 상관도 시각화\n",
    "import seaborn as sns\n",
    "import matplotlib.pyplot as plt\n",
    "\n",
    "X_features = df.drop(['TurbID','Day'], axis=1)\n",
    "corr = X_features.corr()\n",
    "plt.figure(figsize=(14,14))\n",
    "sns.heatmap(corr, annot=True, fmt='.1g')\n",
    "\n",
    "# Wspd Itmp가 영향도가 높음\n",
    "# Wspd > Pab1,2,3 > Prtv > Itmp > Ndir > Wdir > Etmp"
   ]
  },
  {
   "cell_type": "markdown",
   "metadata": {},
   "source": [
    "### 결측치 분석"
   ]
  },
  {
   "cell_type": "code",
   "execution_count": 16,
   "metadata": {},
   "outputs": [],
   "source": [
    "TurbList = []\n",
    "for i in (sorted(pd.unique(df[\"TurbID\"]))):\n",
    "    tmp = df[df[\"TurbID\"] == i]\n",
    "    tmp.reset_index(inplace=True)\n",
    "    TurbList.append(tmp)"
   ]
  },
  {
   "cell_type": "markdown",
   "metadata": {},
   "source": [
    "### 결측치 \n",
    "- 터빈1 [9356:9585] 314개 == 2일 4시간 40분 연속치\n",
    "- 터빈2 [9356:9601] 355개 == 2일 11시간 30분 연속치"
   ]
  },
  {
   "cell_type": "code",
   "execution_count": null,
   "metadata": {},
   "outputs": [],
   "source": [
    "testdata = TurbList[1]#.iloc[9356:9601]"
   ]
  },
  {
   "cell_type": "code",
   "execution_count": null,
   "metadata": {},
   "outputs": [],
   "source": [
    "import matplotlib.pyplot as plt \n",
    "for i,testdata in enumerate(TurbList):\n",
    "    plt.figure(figsize=(20,4), dpi=500)\n",
    "    plt.yticks(np.arange(0.5, len(testdata.columns), 1), testdata.columns)\n",
    "    plt.xticks(np.arange(0, len(testdata.index), len(testdata.index)//20), testdata.index[::int(len(testdata.index)/20)], rotation=90)\n",
    "    plt.gca().invert_yaxis()\n",
    "    plt.inferno()\n",
    "    plt.grid(False)\n",
    "    plt.pcolor(testdata.transpose().isna())\n",
    "    plt.savefig(f'./nan/TurbID{i+1}.png', bbox_inches='tight', pad_inches=0)"
   ]
  },
  {
   "cell_type": "markdown",
   "metadata": {},
   "source": [
    "### Submission 비교"
   ]
  },
  {
   "cell_type": "code",
   "execution_count": 247,
   "metadata": {},
   "outputs": [],
   "source": [
    "b1 = pd.read_csv(\"Baseline1.csv\")\n",
    "b2 = pd.read_csv(\"Baseline2.csv\")\n",
    "b1_back = pd.read_csv(\"Baseline1.csv\")"
   ]
  },
  {
   "cell_type": "code",
   "execution_count": 253,
   "metadata": {},
   "outputs": [
    {
     "data": {
      "text/plain": [
       "718.705501069304"
      ]
     },
     "execution_count": 253,
     "metadata": {},
     "output_type": "execute_result"
    }
   ],
   "source": [
    "from sklearn.metrics import mean_squared_error \n",
    "mean_squared_error(b1[\"Patv\"], b2[\"Patv\"])"
   ]
  },
  {
   "cell_type": "code",
   "execution_count": 251,
   "metadata": {},
   "outputs": [
    {
     "data": {
      "text/plain": [
       "111"
      ]
     },
     "execution_count": 251,
     "metadata": {},
     "output_type": "execute_result"
    }
   ],
   "source": [
    "zero = 0\n",
    "for i in sorted(pd.unique(df[\"TurbID\"])):\n",
    "    zero += len(b1[(b1[\"TurbID\"] == i) & (b1[\"Patv\"] == 0)])\n",
    "zero"
   ]
  },
  {
   "cell_type": "code",
   "execution_count": 250,
   "metadata": {},
   "outputs": [],
   "source": [
    "for i in sorted(pd.unique(df[\"TurbID\"])):\n",
    "    tmp = b1[b1[\"TurbID\"] == i]\n",
    "    index = b1[(b1[\"TurbID\"] == i) & (b1[\"Patv\"] == 0)].index\n",
    "    #b1.loc[index,'Patv'] = tmp[\"Patv\"].describe()[4]\n",
    "    b1.loc[index,'Patv'] = tmp[\"Patv\"].quantile(q=0.30)\n",
    "    #print()"
   ]
  },
  {
   "cell_type": "code",
   "execution_count": 238,
   "metadata": {},
   "outputs": [],
   "source": [
    "b1.to_csv('Baseline1_fill_0_q2%.csv', index=False)"
   ]
  },
  {
   "cell_type": "markdown",
   "metadata": {},
   "source": []
  }
 ],
 "metadata": {
  "kernelspec": {
   "display_name": "Python 3.9.7 ('base')",
   "language": "python",
   "name": "python3"
  },
  "language_info": {
   "codemirror_mode": {
    "name": "ipython",
    "version": 3
   },
   "file_extension": ".py",
   "mimetype": "text/x-python",
   "name": "python",
   "nbconvert_exporter": "python",
   "pygments_lexer": "ipython3",
   "version": "3.9.7"
  },
  "orig_nbformat": 4,
  "vscode": {
   "interpreter": {
    "hash": "43ac2c48e4339e75074c516d91b4d1aed7885e0ce6846996e15ef729fba805f3"
   }
  }
 },
 "nbformat": 4,
 "nbformat_minor": 2
}
